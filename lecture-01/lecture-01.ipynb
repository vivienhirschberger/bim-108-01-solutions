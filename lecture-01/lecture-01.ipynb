{
 "cells": [
  {
   "cell_type": "markdown",
   "metadata": {
    "deletable": false
   },
   "source": [
    "# Einführung in XML"
   ]
  },
  {
   "cell_type": "markdown",
   "metadata": {
    "deletable": false
   },
   "source": [
    "Wir beginnen mit der Rekapitulation einiger der wichtigsten Sprachkonstruke. Lesen Sie diese sorgfältig durch. Schauen Sie sich danach die Übungen an. Es geht darum, XML Dokumente auf Wohlgeformtheit zu testen. Ist ein Dokument nicht wohlgeformt, erklären Sie warum und verbessern Sie das Dokument entsprechend. Überprüfen Sie das verbesserte Dokument erneut. Ist es nun wohlgeformt? Zum Schluss, schreiben Sie Ihr eigenes XML Dokument und testen Sie dieses auf wohlgeformtheit."
   ]
  },
  {
   "cell_type": "markdown",
   "metadata": {
    "deletable": false
   },
   "source": [
    "## Konstrukte"
   ]
  },
  {
   "cell_type": "markdown",
   "metadata": {
    "deletable": false
   },
   "source": [
    "### Tag\n",
    "\n",
    "Ein *tag* ist ein Sprachkonstrukt welches mit `<` beginnt und mit `>` endet.\n",
    "\n",
    "Es gibt drei Arten von *tags*:\n",
    "\n",
    "* Das *opening tag*, zum Beispiel `<title>`\n",
    "* Das *closing tag*, zum Beispiel `</title>`\n",
    "* Das *empty-element tag*, zum Beispiel `<title />` oder `<title/>`"
   ]
  },
  {
   "cell_type": "markdown",
   "metadata": {
    "deletable": false
   },
   "source": [
    "### Element\n",
    "\n",
    "Ein XML Element ist ein Objekt welches mit einem *opening tag* beginnt und mit einem entsprechenden *closing tag*  endet.\n",
    "\n",
    "XML Elemente können Text oder andere Elemente zwischen den entsprechenden *tags* enthalten.\n",
    "\n",
    "\n",
    "```xml\n",
    "<!-- Example element with text between matching tags -->\n",
    "<title>The Dark Side of the Moon</title>\n",
    "```\n",
    "\n",
    "```xml\n",
    "<!-- Example element with other elements between matching tags --> \n",
    "<album>\n",
    "    <title>The Dark Side of the Moon</title>\n",
    "    <year>1973</year>\n",
    "</album>\n",
    "```\n",
    "\n",
    "XML Elemente können leer sein.\n",
    "\n",
    "```xml\n",
    "<!-- Example empty element -->\n",
    "<title></title>\n",
    "<!-- which can be abbreviated as -->\n",
    "<title />\n",
    "```"
   ]
  },
  {
   "cell_type": "markdown",
   "metadata": {
    "deletable": false
   },
   "source": [
    "### Attribut\n",
    "\n",
    "*Opening tags* und *empty-element tags* können ein oder mehrere Attribute enthalten, innerhalb der `<` und `>` Klammern als `name=\"value\"` Paare, wobei `name` eindeutig sein muss innerhalb des *tags*.\n",
    "\n",
    "```xml\n",
    "<!-- Example tag with attribute -->\n",
    "<album title=\"The Dark Side of the Moon\" />\n",
    "```\n",
    "\n",
    "XML spezifiziert nicht wie Information geschrieben werden soll. Der Albumtitel ist hier ein Attribut. Im vorherigen Beispiel ist der Titel ein Element. Element ist grundsätzlich flexibler, da erweiterbar. Letztlich müssen Sie allerdings selbst entscheiden was für die Anwendung besser ist."
   ]
  },
  {
   "cell_type": "markdown",
   "metadata": {
    "deletable": false
   },
   "source": [
    "### Dokument\n",
    "\n",
    "Ein XML Dokument is a Textdokument. Es beginnt mit einer (optionalen) Deklaration welche die verwendete Versionsnummer (*version*) des XML Standards deklariert, üblicherweise `1.0`, und optional die Kodierung, meist `utf-8` (*encoding*).\n",
    "\n",
    "```xml\n",
    "<?xml version=\"1.0\" encoding=\"utf-8\"?>\n",
    "```\n",
    "\n",
    "Ein XML Dokument muss genau ein (äusserstes) Element enthalten. Dieses wird Wurzelelement (*root element*) genannt. Das folgende Beispiel ist somit ein XML Dokument.\n",
    "\n",
    "```xml\n",
    "<?xml version=\"1.0\"?>\n",
    "<discography/>\n",
    "```"
   ]
  },
  {
   "cell_type": "markdown",
   "metadata": {
    "deletable": false
   },
   "source": [
    "## Übungen\n",
    "\n",
    "Schreiben und testen Sie XML Dokument auf Wohlgeformtheit (*well-formed*).\n",
    "\n",
    "Zuerst definieren wir eine Hilffunktion (hier in der Python Programmiersprache) die uns das Testen auf Wohlgeformtheit etwas erleichtert. Machen Sie sich keine grosse Gedanken wenn Sie nicht ganz verstehen was hier geschieht. Fragen Sie.\n",
    "\n",
    "Wichtig ist, dass Sie diesen Code ausführen (ALT+ENTER)."
   ]
  },
  {
   "cell_type": "code",
   "execution_count": 3,
   "metadata": {
    "deletable": false
   },
   "outputs": [],
   "source": [
    "from lxml import etree\n",
    "\n",
    "def is_well_formed(doc):\n",
    "    try:\n",
    "        etree.fromstring(doc)\n",
    "        print('The document is well-formed')\n",
    "    except etree.XMLSyntaxError:\n",
    "        print('The document is NOT well-formed')"
   ]
  },
  {
   "cell_type": "markdown",
   "metadata": {
    "deletable": false
   },
   "source": [
    "Nun testen wir einige XML Dokumente auf Wohlgeformtheit. \n",
    "\n",
    "Ist das Dokument nicht wohlgeformt, versuchen Sie zu erklären warum und korrigieren Sie den Fehler. Schreiben Sie Ihre Erklärung an die entsprechende Stelle indem Sie den entsprechenden Block editieren (Doppelclick)."
   ]
  },
  {
   "cell_type": "code",
   "execution_count": null,
   "metadata": {
    "collapsed": true,
    "deletable": false
   },
   "outputs": [],
   "source": [
    "is_well_formed('<?xml version=\"1.0\"?><discography/>')"
   ]
  },
  {
   "cell_type": "code",
   "execution_count": null,
   "metadata": {
    "collapsed": true,
    "deletable": false
   },
   "outputs": [],
   "source": [
    "is_well_formed('<discography/>')"
   ]
  },
  {
   "cell_type": "code",
   "execution_count": null,
   "metadata": {
    "collapsed": true,
    "deletable": false
   },
   "outputs": [],
   "source": [
    "is_well_formed('<discography/><albums/>')\n",
    "\n",
    "# Erklärung: Dokument hat 2 Wurzelelemente."
   ]
  },
  {
   "cell_type": "code",
   "execution_count": null,
   "metadata": {
    "collapsed": true,
    "deletable": false
   },
   "outputs": [],
   "source": [
    "doc = \"\"\"\n",
    "<discography>\n",
    "    <albums>\n",
    "        <album>\n",
    "            <title>The Dark Side of the Moon</title>\n",
    "        </album>\n",
    "        <album>\n",
    "            <title>The Wall</title>\n",
    "        </album>\n",
    "    </albums>\n",
    "</discography>\n",
    "\"\"\"\n",
    "is_well_formed(doc)"
   ]
  },
  {
   "cell_type": "markdown",
   "metadata": {
    "deletable": false
   },
   "source": [
    "Vergleichen Sie das nächste Dokument mit dem letzten. Beide sind syntaktisch korrekt und sind somit wohlgeformt. Man kann allerding einwenden, dass eine Sammlung an Alben kein Titel hat und *The Dark Side of the Moon* sicherlich kein Titel einer Sammlung ist. XML versteht solche Unterschiede nicht."
   ]
  },
  {
   "cell_type": "code",
   "execution_count": null,
   "metadata": {
    "collapsed": true,
    "deletable": false
   },
   "outputs": [],
   "source": [
    "doc = \"\"\"\n",
    "<discography>\n",
    "    <albums>\n",
    "        <title>The Dark Side of the Moon</title>\n",
    "    </albums>\n",
    "</discography>\n",
    "\"\"\"\n",
    "is_well_formed(doc)"
   ]
  },
  {
   "cell_type": "code",
   "execution_count": 4,
   "metadata": {
    "deletable": false
   },
   "outputs": [
    {
     "name": "stdout",
     "output_type": "stream",
     "text": [
      "The document is NOT well-formed\n"
     ]
    }
   ],
   "source": [
    "doc = \"\"\"\n",
    "<discography>\n",
    "<albums>\n",
    "<album>\n",
    "<title>The Dark Side of the Moon</title>\n",
    "</album>\n",
    "</discography>\n",
    "\"\"\"\n",
    "is_well_formed(doc)\n",
    "\n",
    "# Erklärung: </albums> fehlt."
   ]
  },
  {
   "cell_type": "code",
   "execution_count": null,
   "metadata": {
    "collapsed": true,
    "deletable": false
   },
   "outputs": [],
   "source": [
    "doc = \"\"\"\n",
    "<discography>\n",
    "<albums>\n",
    "<album>\n",
    "<title>The Dark Side of the Moon</title>\n",
    "</albums>\n",
    "</album>\n",
    "</discography>\n",
    "\"\"\"\n",
    "is_well_formed(doc)\n",
    "\n",
    "# Erklärung: Der Platz von </albums> und </album> wurde verauscht. "
   ]
  },
  {
   "cell_type": "code",
   "execution_count": 5,
   "metadata": {
    "deletable": false
   },
   "outputs": [
    {
     "name": "stdout",
     "output_type": "stream",
     "text": [
      "The document is NOT well-formed\n"
     ]
    }
   ],
   "source": [
    "doc = \"\"\"\n",
    "<discography\n",
    "<albums>\n",
    "<album>\n",
    "<title>The Dark Side of the Moon</Title>\n",
    "</album>\n",
    "</albums>\n",
    "</discographie>\n",
    "\"\"\"\n",
    "is_well_formed(doc)\n",
    "\n",
    "# Erklärung:Schreibfehler bei </discographie> und Tag bei <discography fehlt. "
   ]
  },
  {
   "cell_type": "code",
   "execution_count": null,
   "metadata": {
    "collapsed": true,
    "deletable": false
   },
   "outputs": [],
   "source": [
    "doc = \"\"\"\n",
    "<discography>\n",
    "<albums>\n",
    "<album title=\"The Dark Side of the Moon\" year=\"1973\" />\n",
    "</albums>\n",
    "</discography>\n",
    "\"\"\"\n",
    "is_well_formed(doc)"
   ]
  },
  {
   "cell_type": "code",
   "execution_count": null,
   "metadata": {
    "collapsed": true,
    "deletable": false
   },
   "outputs": [],
   "source": [
    "doc = \"\"\"\n",
    "<discography>\n",
    "<albums title=\"The Dark Side of the Moon\" title=\"The Wall\" />\n",
    "</discography>\n",
    "\"\"\"\n",
    "is_well_formed(doc)\n",
    "\n",
    "# Erklärung: Ein title zu viel. "
   ]
  },
  {
   "cell_type": "code",
   "execution_count": null,
   "metadata": {
    "collapsed": true,
    "deletable": false
   },
   "outputs": [],
   "source": [
    "doc = \"\"\"\n",
    "<disc:discography xmlns:disc=\"http://discography.org\">\n",
    "<disc:albums>\n",
    "<disc:album>The Dark Side of the Moon</disc:album>\n",
    "</disc:albums>\n",
    "</disc:discography>\n",
    "\"\"\"\n",
    "is_well_formed(doc)"
   ]
  },
  {
   "cell_type": "code",
   "execution_count": null,
   "metadata": {
    "collapsed": true,
    "deletable": false
   },
   "outputs": [],
   "source": [
    "doc = \"\"\"\n",
    "<disc:discography xmlns:disc=\"http://discography.org\" xmlns:alb=\"http://albums.org\" xmlns=\"http://default.org\">\n",
    "<alb:albums>\n",
    "<alb:album title=\"The Dark Side of the Moon\" alb:year=\"1973\"/>\n",
    "</alb:albums>\n",
    "</disc:discography>\n",
    "\"\"\"\n",
    "is_well_formed(doc)"
   ]
  },
  {
   "cell_type": "markdown",
   "metadata": {
    "deletable": false
   },
   "source": [
    "Erstellen Sie nun ein XML Dokument und prüfen Sie es auf Wohlgeformtheit. Bauen Sie dann einige Fehler ein."
   ]
  },
  {
   "cell_type": "code",
   "execution_count": null,
   "metadata": {
    "collapsed": true,
    "deletable": false
   },
   "outputs": [],
   "source": [
    "doc = \"\"\"\n",
    "\"\"\"\n",
    "is_well_formed(doc)"
   ]
  }
 ],
 "metadata": {
  "kernelspec": {
   "display_name": "Python 3",
   "language": "python",
   "name": "python3"
  },
  "language_info": {
   "codemirror_mode": {
    "name": "ipython",
    "version": 3
   },
   "file_extension": ".py",
   "mimetype": "text/x-python",
   "name": "python",
   "nbconvert_exporter": "python",
   "pygments_lexer": "ipython3",
   "version": "3.6.4"
  }
 },
 "nbformat": 4,
 "nbformat_minor": 2
}
